{
 "cells": [
  {
   "cell_type": "markdown",
   "metadata": {},
   "source": [
    "<h1 style=\"text-align:center;\">Laboratorio 3</h1>\n",
    "<h4 style=\"text-align:center;\">Cristopher Barrios</h4>\n",
    "<h4 style=\"text-align:center;\">Mariana David</h4>\n",
    "<h5 style=\"text-align:center;\">18/8/2023</h5>"
   ]
  },
  {
   "cell_type": "markdown",
   "metadata": {},
   "source": [
    "### Librerias"
   ]
  },
  {
   "cell_type": "code",
   "execution_count": 2,
   "metadata": {},
   "outputs": [],
   "source": [
    "import pandas as pd\n",
    "import numpy as np\n",
    "import matplotlib.pyplot as plt\n",
    "import seaborn as sns\n",
    "import tensorflow as tf\n",
    "from tensorflow.keras import layers, models\n",
    "from sklearn.metrics import confusion_matrix, ConfusionMatrixDisplay\n"
   ]
  },
  {
   "cell_type": "markdown",
   "metadata": {},
   "source": [
    "### Ejercicio 1"
   ]
  },
  {
   "cell_type": "markdown",
   "metadata": {},
   "source": [
    "1. Haga un análisis exploratorio de los datos para entenderlos mejor, documente todos los análisis "
   ]
  },
  {
   "cell_type": "code",
   "execution_count": 3,
   "metadata": {},
   "outputs": [],
   "source": [
    "# Se cargan los datos\n",
    "digit = pd.read_csv(\"./data/train.csv\")"
   ]
  },
  {
   "cell_type": "code",
   "execution_count": 4,
   "metadata": {},
   "outputs": [
    {
     "data": {
      "text/html": [
       "<div>\n",
       "<style scoped>\n",
       "    .dataframe tbody tr th:only-of-type {\n",
       "        vertical-align: middle;\n",
       "    }\n",
       "\n",
       "    .dataframe tbody tr th {\n",
       "        vertical-align: top;\n",
       "    }\n",
       "\n",
       "    .dataframe thead th {\n",
       "        text-align: right;\n",
       "    }\n",
       "</style>\n",
       "<table border=\"1\" class=\"dataframe\">\n",
       "  <thead>\n",
       "    <tr style=\"text-align: right;\">\n",
       "      <th></th>\n",
       "      <th>label</th>\n",
       "      <th>pixel0</th>\n",
       "      <th>pixel1</th>\n",
       "      <th>pixel2</th>\n",
       "      <th>pixel3</th>\n",
       "      <th>pixel4</th>\n",
       "      <th>pixel5</th>\n",
       "      <th>pixel6</th>\n",
       "      <th>pixel7</th>\n",
       "      <th>pixel8</th>\n",
       "      <th>...</th>\n",
       "      <th>pixel774</th>\n",
       "      <th>pixel775</th>\n",
       "      <th>pixel776</th>\n",
       "      <th>pixel777</th>\n",
       "      <th>pixel778</th>\n",
       "      <th>pixel779</th>\n",
       "      <th>pixel780</th>\n",
       "      <th>pixel781</th>\n",
       "      <th>pixel782</th>\n",
       "      <th>pixel783</th>\n",
       "    </tr>\n",
       "  </thead>\n",
       "  <tbody>\n",
       "    <tr>\n",
       "      <th>0</th>\n",
       "      <td>1</td>\n",
       "      <td>0</td>\n",
       "      <td>0</td>\n",
       "      <td>0</td>\n",
       "      <td>0</td>\n",
       "      <td>0</td>\n",
       "      <td>0</td>\n",
       "      <td>0</td>\n",
       "      <td>0</td>\n",
       "      <td>0</td>\n",
       "      <td>...</td>\n",
       "      <td>0</td>\n",
       "      <td>0</td>\n",
       "      <td>0</td>\n",
       "      <td>0</td>\n",
       "      <td>0</td>\n",
       "      <td>0</td>\n",
       "      <td>0</td>\n",
       "      <td>0</td>\n",
       "      <td>0</td>\n",
       "      <td>0</td>\n",
       "    </tr>\n",
       "    <tr>\n",
       "      <th>1</th>\n",
       "      <td>0</td>\n",
       "      <td>0</td>\n",
       "      <td>0</td>\n",
       "      <td>0</td>\n",
       "      <td>0</td>\n",
       "      <td>0</td>\n",
       "      <td>0</td>\n",
       "      <td>0</td>\n",
       "      <td>0</td>\n",
       "      <td>0</td>\n",
       "      <td>...</td>\n",
       "      <td>0</td>\n",
       "      <td>0</td>\n",
       "      <td>0</td>\n",
       "      <td>0</td>\n",
       "      <td>0</td>\n",
       "      <td>0</td>\n",
       "      <td>0</td>\n",
       "      <td>0</td>\n",
       "      <td>0</td>\n",
       "      <td>0</td>\n",
       "    </tr>\n",
       "    <tr>\n",
       "      <th>2</th>\n",
       "      <td>1</td>\n",
       "      <td>0</td>\n",
       "      <td>0</td>\n",
       "      <td>0</td>\n",
       "      <td>0</td>\n",
       "      <td>0</td>\n",
       "      <td>0</td>\n",
       "      <td>0</td>\n",
       "      <td>0</td>\n",
       "      <td>0</td>\n",
       "      <td>...</td>\n",
       "      <td>0</td>\n",
       "      <td>0</td>\n",
       "      <td>0</td>\n",
       "      <td>0</td>\n",
       "      <td>0</td>\n",
       "      <td>0</td>\n",
       "      <td>0</td>\n",
       "      <td>0</td>\n",
       "      <td>0</td>\n",
       "      <td>0</td>\n",
       "    </tr>\n",
       "    <tr>\n",
       "      <th>3</th>\n",
       "      <td>4</td>\n",
       "      <td>0</td>\n",
       "      <td>0</td>\n",
       "      <td>0</td>\n",
       "      <td>0</td>\n",
       "      <td>0</td>\n",
       "      <td>0</td>\n",
       "      <td>0</td>\n",
       "      <td>0</td>\n",
       "      <td>0</td>\n",
       "      <td>...</td>\n",
       "      <td>0</td>\n",
       "      <td>0</td>\n",
       "      <td>0</td>\n",
       "      <td>0</td>\n",
       "      <td>0</td>\n",
       "      <td>0</td>\n",
       "      <td>0</td>\n",
       "      <td>0</td>\n",
       "      <td>0</td>\n",
       "      <td>0</td>\n",
       "    </tr>\n",
       "    <tr>\n",
       "      <th>4</th>\n",
       "      <td>0</td>\n",
       "      <td>0</td>\n",
       "      <td>0</td>\n",
       "      <td>0</td>\n",
       "      <td>0</td>\n",
       "      <td>0</td>\n",
       "      <td>0</td>\n",
       "      <td>0</td>\n",
       "      <td>0</td>\n",
       "      <td>0</td>\n",
       "      <td>...</td>\n",
       "      <td>0</td>\n",
       "      <td>0</td>\n",
       "      <td>0</td>\n",
       "      <td>0</td>\n",
       "      <td>0</td>\n",
       "      <td>0</td>\n",
       "      <td>0</td>\n",
       "      <td>0</td>\n",
       "      <td>0</td>\n",
       "      <td>0</td>\n",
       "    </tr>\n",
       "  </tbody>\n",
       "</table>\n",
       "<p>5 rows × 785 columns</p>\n",
       "</div>"
      ],
      "text/plain": [
       "   label  pixel0  pixel1  pixel2  pixel3  pixel4  pixel5  pixel6  pixel7  \\\n",
       "0      1       0       0       0       0       0       0       0       0   \n",
       "1      0       0       0       0       0       0       0       0       0   \n",
       "2      1       0       0       0       0       0       0       0       0   \n",
       "3      4       0       0       0       0       0       0       0       0   \n",
       "4      0       0       0       0       0       0       0       0       0   \n",
       "\n",
       "   pixel8  ...  pixel774  pixel775  pixel776  pixel777  pixel778  pixel779  \\\n",
       "0       0  ...         0         0         0         0         0         0   \n",
       "1       0  ...         0         0         0         0         0         0   \n",
       "2       0  ...         0         0         0         0         0         0   \n",
       "3       0  ...         0         0         0         0         0         0   \n",
       "4       0  ...         0         0         0         0         0         0   \n",
       "\n",
       "   pixel780  pixel781  pixel782  pixel783  \n",
       "0         0         0         0         0  \n",
       "1         0         0         0         0  \n",
       "2         0         0         0         0  \n",
       "3         0         0         0         0  \n",
       "4         0         0         0         0  \n",
       "\n",
       "[5 rows x 785 columns]"
      ]
     },
     "execution_count": 4,
     "metadata": {},
     "output_type": "execute_result"
    }
   ],
   "source": [
    "# Primeras 5 filas\n",
    "digit.head(5)"
   ]
  },
  {
   "cell_type": "code",
   "execution_count": 5,
   "metadata": {},
   "outputs": [
    {
     "data": {
      "text/html": [
       "<div>\n",
       "<style scoped>\n",
       "    .dataframe tbody tr th:only-of-type {\n",
       "        vertical-align: middle;\n",
       "    }\n",
       "\n",
       "    .dataframe tbody tr th {\n",
       "        vertical-align: top;\n",
       "    }\n",
       "\n",
       "    .dataframe thead th {\n",
       "        text-align: right;\n",
       "    }\n",
       "</style>\n",
       "<table border=\"1\" class=\"dataframe\">\n",
       "  <thead>\n",
       "    <tr style=\"text-align: right;\">\n",
       "      <th></th>\n",
       "      <th>label</th>\n",
       "      <th>pixel0</th>\n",
       "      <th>pixel1</th>\n",
       "      <th>pixel2</th>\n",
       "      <th>pixel3</th>\n",
       "      <th>pixel4</th>\n",
       "      <th>pixel5</th>\n",
       "      <th>pixel6</th>\n",
       "      <th>pixel7</th>\n",
       "      <th>pixel8</th>\n",
       "      <th>...</th>\n",
       "      <th>pixel774</th>\n",
       "      <th>pixel775</th>\n",
       "      <th>pixel776</th>\n",
       "      <th>pixel777</th>\n",
       "      <th>pixel778</th>\n",
       "      <th>pixel779</th>\n",
       "      <th>pixel780</th>\n",
       "      <th>pixel781</th>\n",
       "      <th>pixel782</th>\n",
       "      <th>pixel783</th>\n",
       "    </tr>\n",
       "  </thead>\n",
       "  <tbody>\n",
       "    <tr>\n",
       "      <th>41995</th>\n",
       "      <td>0</td>\n",
       "      <td>0</td>\n",
       "      <td>0</td>\n",
       "      <td>0</td>\n",
       "      <td>0</td>\n",
       "      <td>0</td>\n",
       "      <td>0</td>\n",
       "      <td>0</td>\n",
       "      <td>0</td>\n",
       "      <td>0</td>\n",
       "      <td>...</td>\n",
       "      <td>0</td>\n",
       "      <td>0</td>\n",
       "      <td>0</td>\n",
       "      <td>0</td>\n",
       "      <td>0</td>\n",
       "      <td>0</td>\n",
       "      <td>0</td>\n",
       "      <td>0</td>\n",
       "      <td>0</td>\n",
       "      <td>0</td>\n",
       "    </tr>\n",
       "    <tr>\n",
       "      <th>41996</th>\n",
       "      <td>1</td>\n",
       "      <td>0</td>\n",
       "      <td>0</td>\n",
       "      <td>0</td>\n",
       "      <td>0</td>\n",
       "      <td>0</td>\n",
       "      <td>0</td>\n",
       "      <td>0</td>\n",
       "      <td>0</td>\n",
       "      <td>0</td>\n",
       "      <td>...</td>\n",
       "      <td>0</td>\n",
       "      <td>0</td>\n",
       "      <td>0</td>\n",
       "      <td>0</td>\n",
       "      <td>0</td>\n",
       "      <td>0</td>\n",
       "      <td>0</td>\n",
       "      <td>0</td>\n",
       "      <td>0</td>\n",
       "      <td>0</td>\n",
       "    </tr>\n",
       "    <tr>\n",
       "      <th>41997</th>\n",
       "      <td>7</td>\n",
       "      <td>0</td>\n",
       "      <td>0</td>\n",
       "      <td>0</td>\n",
       "      <td>0</td>\n",
       "      <td>0</td>\n",
       "      <td>0</td>\n",
       "      <td>0</td>\n",
       "      <td>0</td>\n",
       "      <td>0</td>\n",
       "      <td>...</td>\n",
       "      <td>0</td>\n",
       "      <td>0</td>\n",
       "      <td>0</td>\n",
       "      <td>0</td>\n",
       "      <td>0</td>\n",
       "      <td>0</td>\n",
       "      <td>0</td>\n",
       "      <td>0</td>\n",
       "      <td>0</td>\n",
       "      <td>0</td>\n",
       "    </tr>\n",
       "    <tr>\n",
       "      <th>41998</th>\n",
       "      <td>6</td>\n",
       "      <td>0</td>\n",
       "      <td>0</td>\n",
       "      <td>0</td>\n",
       "      <td>0</td>\n",
       "      <td>0</td>\n",
       "      <td>0</td>\n",
       "      <td>0</td>\n",
       "      <td>0</td>\n",
       "      <td>0</td>\n",
       "      <td>...</td>\n",
       "      <td>0</td>\n",
       "      <td>0</td>\n",
       "      <td>0</td>\n",
       "      <td>0</td>\n",
       "      <td>0</td>\n",
       "      <td>0</td>\n",
       "      <td>0</td>\n",
       "      <td>0</td>\n",
       "      <td>0</td>\n",
       "      <td>0</td>\n",
       "    </tr>\n",
       "    <tr>\n",
       "      <th>41999</th>\n",
       "      <td>9</td>\n",
       "      <td>0</td>\n",
       "      <td>0</td>\n",
       "      <td>0</td>\n",
       "      <td>0</td>\n",
       "      <td>0</td>\n",
       "      <td>0</td>\n",
       "      <td>0</td>\n",
       "      <td>0</td>\n",
       "      <td>0</td>\n",
       "      <td>...</td>\n",
       "      <td>0</td>\n",
       "      <td>0</td>\n",
       "      <td>0</td>\n",
       "      <td>0</td>\n",
       "      <td>0</td>\n",
       "      <td>0</td>\n",
       "      <td>0</td>\n",
       "      <td>0</td>\n",
       "      <td>0</td>\n",
       "      <td>0</td>\n",
       "    </tr>\n",
       "  </tbody>\n",
       "</table>\n",
       "<p>5 rows × 785 columns</p>\n",
       "</div>"
      ],
      "text/plain": [
       "       label  pixel0  pixel1  pixel2  pixel3  pixel4  pixel5  pixel6  pixel7  \\\n",
       "41995      0       0       0       0       0       0       0       0       0   \n",
       "41996      1       0       0       0       0       0       0       0       0   \n",
       "41997      7       0       0       0       0       0       0       0       0   \n",
       "41998      6       0       0       0       0       0       0       0       0   \n",
       "41999      9       0       0       0       0       0       0       0       0   \n",
       "\n",
       "       pixel8  ...  pixel774  pixel775  pixel776  pixel777  pixel778  \\\n",
       "41995       0  ...         0         0         0         0         0   \n",
       "41996       0  ...         0         0         0         0         0   \n",
       "41997       0  ...         0         0         0         0         0   \n",
       "41998       0  ...         0         0         0         0         0   \n",
       "41999       0  ...         0         0         0         0         0   \n",
       "\n",
       "       pixel779  pixel780  pixel781  pixel782  pixel783  \n",
       "41995         0         0         0         0         0  \n",
       "41996         0         0         0         0         0  \n",
       "41997         0         0         0         0         0  \n",
       "41998         0         0         0         0         0  \n",
       "41999         0         0         0         0         0  \n",
       "\n",
       "[5 rows x 785 columns]"
      ]
     },
     "execution_count": 5,
     "metadata": {},
     "output_type": "execute_result"
    }
   ],
   "source": [
    "#Ultimas 5 filas\n",
    "digit.tail(5)"
   ]
  },
  {
   "cell_type": "code",
   "execution_count": 6,
   "metadata": {},
   "outputs": [
    {
     "data": {
      "text/plain": [
       "label        9\n",
       "pixel0       0\n",
       "pixel1       0\n",
       "pixel2       0\n",
       "pixel3       0\n",
       "            ..\n",
       "pixel779    62\n",
       "pixel780     0\n",
       "pixel781     0\n",
       "pixel782     0\n",
       "pixel783     0\n",
       "Length: 785, dtype: int64"
      ]
     },
     "execution_count": 6,
     "metadata": {},
     "output_type": "execute_result"
    }
   ],
   "source": [
    "#valor maximo de cada columna\n",
    "digit.max()"
   ]
  },
  {
   "cell_type": "code",
   "execution_count": 7,
   "metadata": {},
   "outputs": [
    {
     "data": {
      "text/plain": [
       "label       0\n",
       "pixel0      0\n",
       "pixel1      0\n",
       "pixel2      0\n",
       "pixel3      0\n",
       "           ..\n",
       "pixel779    0\n",
       "pixel780    0\n",
       "pixel781    0\n",
       "pixel782    0\n",
       "pixel783    0\n",
       "Length: 785, dtype: int64"
      ]
     },
     "execution_count": 7,
     "metadata": {},
     "output_type": "execute_result"
    }
   ],
   "source": [
    "#valor minimo de cada columna\n",
    "digit.min()"
   ]
  },
  {
   "cell_type": "code",
   "execution_count": 8,
   "metadata": {},
   "outputs": [
    {
     "data": {
      "text/plain": [
       "label       int64\n",
       "pixel0      int64\n",
       "pixel1      int64\n",
       "pixel2      int64\n",
       "pixel3      int64\n",
       "            ...  \n",
       "pixel779    int64\n",
       "pixel780    int64\n",
       "pixel781    int64\n",
       "pixel782    int64\n",
       "pixel783    int64\n",
       "Length: 785, dtype: object"
      ]
     },
     "execution_count": 8,
     "metadata": {},
     "output_type": "execute_result"
    }
   ],
   "source": [
    "#tipo de dato de cada columna\n",
    "digit.dtypes"
   ]
  },
  {
   "cell_type": "code",
   "execution_count": 9,
   "metadata": {},
   "outputs": [
    {
     "data": {
      "text/plain": [
       "(42000, 785)"
      ]
     },
     "execution_count": 9,
     "metadata": {},
     "output_type": "execute_result"
    }
   ],
   "source": [
    "#Numero de filas y de columnas\n",
    "digit.shape"
   ]
  },
  {
   "cell_type": "code",
   "execution_count": 10,
   "metadata": {},
   "outputs": [
    {
     "name": "stdout",
     "output_type": "stream",
     "text": [
      "<class 'pandas.core.frame.DataFrame'>\n",
      "RangeIndex: 42000 entries, 0 to 41999\n",
      "Columns: 785 entries, label to pixel783\n",
      "dtypes: int64(785)\n",
      "memory usage: 251.5 MB\n"
     ]
    }
   ],
   "source": [
    "#informacion del data\n",
    "digit.info()"
   ]
  },
  {
   "cell_type": "code",
   "execution_count": 11,
   "metadata": {},
   "outputs": [
    {
     "data": {
      "text/plain": [
       "label       0\n",
       "pixel0      0\n",
       "pixel1      0\n",
       "pixel2      0\n",
       "pixel3      0\n",
       "           ..\n",
       "pixel779    0\n",
       "pixel780    0\n",
       "pixel781    0\n",
       "pixel782    0\n",
       "pixel783    0\n",
       "Length: 785, dtype: int64"
      ]
     },
     "execution_count": 11,
     "metadata": {},
     "output_type": "execute_result"
    }
   ],
   "source": [
    "#valores faltantes\n",
    "digit.isnull().sum()"
   ]
  },
  {
   "cell_type": "code",
   "execution_count": 12,
   "metadata": {},
   "outputs": [
    {
     "data": {
      "text/html": [
       "<div>\n",
       "<style scoped>\n",
       "    .dataframe tbody tr th:only-of-type {\n",
       "        vertical-align: middle;\n",
       "    }\n",
       "\n",
       "    .dataframe tbody tr th {\n",
       "        vertical-align: top;\n",
       "    }\n",
       "\n",
       "    .dataframe thead th {\n",
       "        text-align: right;\n",
       "    }\n",
       "</style>\n",
       "<table border=\"1\" class=\"dataframe\">\n",
       "  <thead>\n",
       "    <tr style=\"text-align: right;\">\n",
       "      <th></th>\n",
       "      <th>Valor</th>\n",
       "      <th>Frecuencia</th>\n",
       "    </tr>\n",
       "  </thead>\n",
       "  <tbody>\n",
       "    <tr>\n",
       "      <th>0</th>\n",
       "      <td>1</td>\n",
       "      <td>4684</td>\n",
       "    </tr>\n",
       "    <tr>\n",
       "      <th>1</th>\n",
       "      <td>7</td>\n",
       "      <td>4401</td>\n",
       "    </tr>\n",
       "    <tr>\n",
       "      <th>2</th>\n",
       "      <td>3</td>\n",
       "      <td>4351</td>\n",
       "    </tr>\n",
       "    <tr>\n",
       "      <th>3</th>\n",
       "      <td>9</td>\n",
       "      <td>4188</td>\n",
       "    </tr>\n",
       "    <tr>\n",
       "      <th>4</th>\n",
       "      <td>2</td>\n",
       "      <td>4177</td>\n",
       "    </tr>\n",
       "    <tr>\n",
       "      <th>5</th>\n",
       "      <td>6</td>\n",
       "      <td>4137</td>\n",
       "    </tr>\n",
       "    <tr>\n",
       "      <th>6</th>\n",
       "      <td>0</td>\n",
       "      <td>4132</td>\n",
       "    </tr>\n",
       "    <tr>\n",
       "      <th>7</th>\n",
       "      <td>4</td>\n",
       "      <td>4072</td>\n",
       "    </tr>\n",
       "    <tr>\n",
       "      <th>8</th>\n",
       "      <td>8</td>\n",
       "      <td>4063</td>\n",
       "    </tr>\n",
       "    <tr>\n",
       "      <th>9</th>\n",
       "      <td>5</td>\n",
       "      <td>3795</td>\n",
       "    </tr>\n",
       "  </tbody>\n",
       "</table>\n",
       "</div>"
      ],
      "text/plain": [
       "   Valor  Frecuencia\n",
       "0      1        4684\n",
       "1      7        4401\n",
       "2      3        4351\n",
       "3      9        4188\n",
       "4      2        4177\n",
       "5      6        4137\n",
       "6      0        4132\n",
       "7      4        4072\n",
       "8      8        4063\n",
       "9      5        3795"
      ]
     },
     "execution_count": 12,
     "metadata": {},
     "output_type": "execute_result"
    }
   ],
   "source": [
    "# Crear la tabla de frecuencias\n",
    "tabla_frecuencias = digit['label'].value_counts().reset_index()\n",
    "tabla_frecuencias.columns = ['Valor', 'Frecuencia']\n",
    "tabla_frecuencias"
   ]
  },
  {
   "cell_type": "code",
   "execution_count": 13,
   "metadata": {},
   "outputs": [
    {
     "data": {
      "image/png": "[encoded data removed]",
      "text/plain": [
       "<Figure size 432x288 with 1 Axes>"
      ]
     },
     "metadata": {
      "needs_background": "light"
     },
     "output_type": "display_data"
    }
   ],
   "source": [
    "#Grafica de barras\n",
    "plt.bar(tabla_frecuencias['Valor'], tabla_frecuencias['Frecuencia'])\n",
    "plt.xlabel('Valor')\n",
    "plt.ylabel('Frecuencia')\n",
    "plt.title('Gráfica de Barras de Frecuencias')\n",
    "plt.show()"
   ]
  },
  {
   "cell_type": "markdown",
   "metadata": {},
   "source": [
    "2. Haga un modelo de redes neuronales simple, determine la efectividad del modelo "
   ]
  },
  {
   "cell_type": "code",
   "execution_count": 14,
   "metadata": {},
   "outputs": [],
   "source": [
    "x = digit.to_numpy()[0:,1:].reshape(len(digit),28,28,1) \n",
    "y = digit.label.to_numpy()"
   ]
  },
  {
   "cell_type": "code",
   "execution_count": 15,
   "metadata": {},
   "outputs": [
    {
     "data": {
      "text/plain": [
       "<matplotlib.image.AxesImage at 0x1e808d32850>"
      ]
     },
     "execution_count": 15,
     "metadata": {},
     "output_type": "execute_result"
    },
    {
     "data": {
      "image/png": "[encoded data removed]",
      "text/plain": [
       "<Figure size 432x288 with 1 Axes>"
      ]
     },
     "metadata": {
      "needs_background": "light"
     },
     "output_type": "display_data"
    }
   ],
   "source": [
    "image = x[245]\n",
    "plt.imshow(image.squeeze())"
   ]
  },
  {
   "cell_type": "code",
   "execution_count": 16,
   "metadata": {},
   "outputs": [
    {
     "name": "stdout",
     "output_type": "stream",
     "text": [
      "Epoch 1/5\n",
      "1050/1050 [==============================] - 25s 23ms/step - loss: 0.3434 - accuracy: 0.9211 - val_loss: 0.0932 - val_accuracy: 0.9733\n",
      "Epoch 2/5\n",
      "1050/1050 [==============================] - 24s 23ms/step - loss: 0.0788 - accuracy: 0.9760 - val_loss: 0.0798 - val_accuracy: 0.9763\n",
      "Epoch 3/5\n",
      "1050/1050 [==============================] - 25s 24ms/step - loss: 0.0573 - accuracy: 0.9811 - val_loss: 0.0618 - val_accuracy: 0.9814\n",
      "Epoch 4/5\n",
      "1050/1050 [==============================] - 23s 22ms/step - loss: 0.0474 - accuracy: 0.9855 - val_loss: 0.0554 - val_accuracy: 0.9842\n",
      "Epoch 5/5\n",
      "1050/1050 [==============================] - 23s 22ms/step - loss: 0.0428 - accuracy: 0.9868 - val_loss: 0.0842 - val_accuracy: 0.9764\n",
      "Model: \"sequential\"\n",
      "_________________________________________________________________\n",
      " Layer (type)                Output Shape              Param #   \n",
      "=================================================================\n",
      " conv2d (Conv2D)             (None, 26, 26, 32)        320       \n",
      "                                                                 \n",
      " max_pooling2d (MaxPooling2D  (None, 13, 13, 32)       0         \n",
      " )                                                               \n",
      "                                                                 \n",
      " conv2d_1 (Conv2D)           (None, 11, 11, 64)        18496     \n",
      "                                                                 \n",
      " max_pooling2d_1 (MaxPooling  (None, 5, 5, 64)         0         \n",
      " 2D)                                                             \n",
      "                                                                 \n",
      " conv2d_2 (Conv2D)           (None, 3, 3, 64)          36928     \n",
      "                                                                 \n",
      " flatten (Flatten)           (None, 576)               0         \n",
      "                                                                 \n",
      " dense (Dense)               (None, 64)                36928     \n",
      "                                                                 \n",
      " dense_1 (Dense)             (None, 10)                650       \n",
      "                                                                 \n",
      "=================================================================\n",
      "Total params: 93,322\n",
      "Trainable params: 93,322\n",
      "Non-trainable params: 0\n",
      "_________________________________________________________________\n"
     ]
    },
    {
     "data": {
      "image/png": "[encoded data removed]",
      "text/plain": [
       "<Figure size 432x288 with 1 Axes>"
      ]
     },
     "metadata": {
      "needs_background": "light"
     },
     "output_type": "display_data"
    },
    {
     "name": "stdout",
     "output_type": "stream",
     "text": [
      "Etiqueta predicha: 8\n"
     ]
    }
   ],
   "source": [
    "# Definir el modelo\n",
    "model = models.Sequential([\n",
    "    layers.Conv2D(32, (3, 3), activation='relu', input_shape=(28, 28, 1)),\n",
    "    layers.MaxPooling2D((2, 2)),\n",
    "    layers.Conv2D(64, (3, 3), activation='relu'),\n",
    "    layers.MaxPooling2D((2, 2)),\n",
    "    layers.Conv2D(64, (3, 3), activation='relu'),\n",
    "    layers.Flatten(),\n",
    "    layers.Dense(64, activation='relu'),\n",
    "    layers.Dense(10, activation='softmax')\n",
    "])\n",
    "\n",
    "# Compilar el modelo\n",
    "model.compile(optimizer='adam',\n",
    "              loss='sparse_categorical_crossentropy',\n",
    "              metrics=['accuracy'])\n",
    "\n",
    "# Entrenar el modelo\n",
    "model.fit(x, y, epochs=5, validation_split=0.2)\n",
    "\n",
    "# Mostrar la arquitectura del modelo\n",
    "model.summary()\n",
    "\n",
    "# Visualizar una imagen de ejemplo\n",
    "image = x[245]\n",
    "plt.imshow(image.squeeze(), cmap='gray')\n",
    "plt.show()\n",
    "\n",
    "# Predecir con el modelo\n",
    "prediction = model.predict(np.expand_dims(image, axis=0))\n",
    "predicted_label = np.argmax(prediction)\n",
    "print(\"Etiqueta predicha:\", predicted_label)\n"
   ]
  },
  {
   "cell_type": "code",
   "execution_count": 17,
   "metadata": {},
   "outputs": [
    {
     "data": {
      "image/png": "[encoded data removed]",
      "text/plain": [
       "<Figure size 432x288 with 2 Axes>"
      ]
     },
     "metadata": {
      "needs_background": "light"
     },
     "output_type": "display_data"
    }
   ],
   "source": [
    "# Predecir con el modelo\n",
    "prediction = model.predict(x)\n",
    "predicted_labels = np.argmax(prediction, axis=1)\n",
    "\n",
    "# Calcular la matriz de confusión\n",
    "confusion = confusion_matrix(y, predicted_labels)\n",
    "\n",
    "# Mostrar la matriz de confusión\n",
    "classes = np.arange(10)  # Dígitos del 0 al 9\n",
    "disp = ConfusionMatrixDisplay(confusion, display_labels=classes)\n",
    "disp.plot(cmap=plt.cm.Blues)\n",
    "plt.show()\n"
   ]
  },
  {
   "cell_type": "code",
   "execution_count": 20,
   "metadata": {},
   "outputs": [
    {
     "data": {
      "text/plain": [
       "0.9850714285714286"
      ]
     },
     "execution_count": 20,
     "metadata": {},
     "output_type": "execute_result"
    }
   ],
   "source": [
    "from sklearn.metrics import accuracy_score\n",
    "accuracy_score(y, predicted_labels)"
   ]
  },
  {
   "cell_type": "markdown",
   "metadata": {},
   "source": [
    "3. Haga un modelo de Deep Learnign, determine la efectividad del modelo "
   ]
  },
  {
   "cell_type": "code",
   "execution_count": 26,
   "metadata": {},
   "outputs": [
    {
     "data": {
      "text/plain": [
       "0.9741496598639455"
      ]
     },
     "execution_count": 26,
     "metadata": {},
     "output_type": "execute_result"
    },
    {
     "data": {
      "image/png": "[encoded data removed]",
      "text/plain": [
       "<Figure size 432x288 with 1 Axes>"
      ]
     },
     "metadata": {
      "needs_background": "light"
     },
     "output_type": "display_data"
    }
   ],
   "source": [
    "#Modelo realizado: Random Forest\n",
    "#Importaciones\n",
    "import pandas as pd\n",
    "import numpy as np\n",
    "import tensorflow as tf\n",
    "import matplotlib.pyplot as plt\n",
    "import sklearn.metrics as metrics\n",
    "from keras import layers\n",
    "from keras import models\n",
    "from keras.datasets import mnist\n",
    "from tensorflow.keras.utils import to_categorical\n",
    "from sklearn.model_selection import train_test_split\n",
    "from sklearn.metrics import classification_report, confusion_matrix, accuracy_score\n",
    "from sklearn.metrics import ConfusionMatrixDisplay\n",
    "from sklearn import ensemble, model_selection\n",
    "\n",
    "\n",
    "x = digit.to_numpy()[0:,1:].reshape(len(digit),28,28,1) \n",
    "y = digit.label.to_numpy()\n",
    "image = x[244]\n",
    "plt.imshow(image.squeeze())\n",
    "\n",
    "train = pd.read_csv(\"./data/train.csv\").values\n",
    "X = train[:, 1:]\n",
    "Y = train[:, 0]\n",
    "x_train, x_test, y_train, y_test = train_test_split(X, Y, test_size = 0.3)\n",
    "forest = ensemble.RandomForestClassifier(\n",
    "        n_estimators = 1000,\n",
    "        max_depth = 10,\n",
    "        min_samples_split = 4,\n",
    "        n_jobs = -1,\n",
    "        random_state = 1 )\n",
    "forest = forest.fit(x_train, y_train)\n",
    "forest.score(x_train, y_train)\n",
    "\n"
   ]
  },
  {
   "cell_type": "code",
   "execution_count": 27,
   "metadata": {},
   "outputs": [
    {
     "data": {
      "text/plain": [
       "array([0.94591837, 0.94251701, 0.94387755, 0.9462585 , 0.94829932,\n",
       "       0.94353741, 0.93979592, 0.93979592, 0.94421769, 0.94557823])"
      ]
     },
     "execution_count": 27,
     "metadata": {},
     "output_type": "execute_result"
    }
   ],
   "source": [
    "#Importacion\n",
    "from sklearn import model_selection\n",
    "\n",
    "scores = model_selection.cross_val_score(forest, x_train, y_train, scoring = 'accuracy', cv = 10, n_jobs = -1)\n",
    "scores"
   ]
  },
  {
   "cell_type": "code",
   "execution_count": null,
   "metadata": {},
   "outputs": [],
   "source": [
    "scores.mean()\n",
    "forest_ = forest.predict(x_test)"
   ]
  },
  {
   "cell_type": "code",
   "execution_count": null,
   "metadata": {},
   "outputs": [
    {
     "data": {
      "text/plain": [
       "'              precision    recall  f1-score   support\\n\\n           0       0.97      0.98      0.97      1192\\n           1       0.96      0.98      0.97      1373\\n           2       0.93      0.95      0.94      1192\\n           3       0.95      0.91      0.93      1361\\n           4       0.95      0.95      0.95      1227\\n           5       0.96      0.94      0.95      1146\\n           6       0.96      0.97      0.97      1277\\n           7       0.95      0.93      0.94      1350\\n           8       0.92      0.93      0.93      1219\\n           9       0.89      0.91      0.90      1263\\n\\n    accuracy                           0.94     12600\\n   macro avg       0.95      0.95      0.94     12600\\nweighted avg       0.95      0.94      0.94     12600\\n'"
      ]
     },
     "execution_count": 7,
     "metadata": {},
     "output_type": "execute_result"
    }
   ],
   "source": [
    "metrics.classification_report(y_test,forest_)"
   ]
  },
  {
   "cell_type": "code",
   "execution_count": null,
   "metadata": {},
   "outputs": [
    {
     "data": {
      "image/png": "[encoded data removed]",
      "text/plain": [
       "<Figure size 1200x1200 with 2 Axes>"
      ]
     },
     "metadata": {},
     "output_type": "display_data"
    }
   ],
   "source": [
    "fig, ax = plt.subplots(figsize=(12, 12))\n",
    "cm = metrics.confusion_matrix(y_test,forest_)\n",
    "disp = ConfusionMatrixDisplay(confusion_matrix=cm, display_labels = [0,1,2,3,4,5,6,7,8,9])\n",
    "disp = disp.plot(ax=ax)\n",
    "ax.set_title(\"Matriz de confusión\")\n",
    "plt.show()\n",
    "%matplotlib inline"
   ]
  },
  {
   "cell_type": "markdown",
   "metadata": {},
   "source": [
    "4. Haga un modelo con cualquier otro algoritmo que el grupo seleccione, determine la efectividad \n",
    "del modelo. Puede basarse en los modelos que han sido probados con el data set que pueden \n",
    "encontrar en el siguiente link: http://yann.lecun.com/exdb/mnist/ "
   ]
  },
  {
   "cell_type": "code",
   "execution_count": null,
   "metadata": {},
   "outputs": [
    {
     "name": "stderr",
     "output_type": "stream",
     "text": [
      "c:\\Users\\Mariana\\AppData\\Local\\Programs\\Python\\Python311\\Lib\\site-packages\\sklearn\\datasets\\_openml.py:1002: FutureWarning: The default value of `parser` will change from `'liac-arff'` to `'auto'` in 1.4. You can set `parser='auto'` to silence this warning. Therefore, an `ImportError` will be raised from 1.4 if the dataset is dense and pandas is not installed. Note that the pandas parser may return different data types. See the Notes Section in fetch_openml's API doc for details.\n",
      "  warn(\n",
      "C:\\Users\\Mariana\\AppData\\Local\\Temp\\ipykernel_17748\\1319550669.py:14: PerformanceWarning: DataFrame is highly fragmented.  This is usually the result of calling `frame.insert` many times, which has poor performance.  Consider joining all columns at once using pd.concat(axis=1) instead. To get a de-fragmented frame, use `newframe = frame.copy()`\n",
      "  mnist_df['label'] = mnist.target\n"
     ]
    },
    {
     "name": "stdout",
     "output_type": "stream",
     "text": [
      "Iteration 1, loss = 1.88098218\n",
      "Iteration 2, loss = 0.72349522\n",
      "Iteration 3, loss = 0.52431250\n",
      "Iteration 4, loss = 0.43097850\n",
      "Iteration 5, loss = 0.38070169\n",
      "Iteration 6, loss = 0.36152429\n",
      "Iteration 7, loss = 0.34199471\n",
      "Iteration 8, loss = 0.33073669\n",
      "Iteration 9, loss = 0.31428269\n",
      "Iteration 10, loss = 0.29783343\n",
      "Iteration 11, loss = 0.29173723\n",
      "Iteration 12, loss = 0.28091911\n",
      "Iteration 13, loss = 0.27179125\n",
      "Iteration 14, loss = 0.26388366\n",
      "Iteration 15, loss = 0.25833625\n",
      "Iteration 16, loss = 0.25016977\n",
      "Iteration 17, loss = 0.24292770\n",
      "Iteration 18, loss = 0.23996690\n",
      "Iteration 19, loss = 0.23511799\n",
      "Iteration 20, loss = 0.23271697\n"
     ]
    },
    {
     "name": "stderr",
     "output_type": "stream",
     "text": [
      "c:\\Users\\Mariana\\AppData\\Local\\Programs\\Python\\Python311\\Lib\\site-packages\\sklearn\\neural_network\\_multilayer_perceptron.py:691: ConvergenceWarning: Stochastic Optimizer: Maximum iterations (20) reached and the optimization hasn't converged yet.\n",
      "  warnings.warn(\n"
     ]
    },
    {
     "name": "stdout",
     "output_type": "stream",
     "text": [
      "Precisión del modelo de RNA: 0.922\n"
     ]
    }
   ],
   "source": [
    "from sklearn.datasets import fetch_openml\n",
    "import pandas as pd\n",
    "from sklearn.model_selection import train_test_split\n",
    "from sklearn.neural_network import MLPClassifier\n",
    "from sklearn.metrics import accuracy_score\n",
    "\n",
    "# Cargar el conjunto de datos MNIST\n",
    "mnist = fetch_openml('mnist_784', version=1)\n",
    "\n",
    "# Convierte los datos a un DataFrame de Pandas\n",
    "mnist_df = pd.DataFrame(data=mnist.data, columns=mnist.feature_names)\n",
    "\n",
    "# Agregar la columna de etiquetas al DataFrame\n",
    "mnist_df['label'] = mnist.target\n",
    "\n",
    "# Dividir los datos en características (X) y etiquetas (y)\n",
    "X = mnist_df.drop('label', axis=1)\n",
    "y = mnist_df['label']\n",
    "\n",
    "# Dividir los datos en conjuntos de entrenamiento y prueba\n",
    "X_train, X_test, y_train, y_test = train_test_split(X, y, test_size=0.2, random_state=42)\n",
    "\n",
    "# Crear y entrenar el modelo de Red Neuronal Artificial (RNA)\n",
    "mlp_model = MLPClassifier(hidden_layer_sizes=(100,), max_iter=20, alpha=1e-4,\n",
    "                          solver='sgd', verbose=10, random_state=42,\n",
    "                          learning_rate_init=0.001)\n",
    "\n",
    "mlp_model.fit(X_train, y_train)\n",
    "\n",
    "# Realizar predicciones en el conjunto de prueba\n",
    "y_pred = mlp_model.predict(X_test)\n",
    "\n",
    "# Calcular la precisión del modelo\n",
    "accuracy = accuracy_score(y_test, y_pred)\n",
    "print(\"Precisión del modelo de RNA:\", accuracy)\n"
   ]
  },
  {
   "cell_type": "markdown",
   "metadata": {},
   "source": [
    "5. Pruebe el mejor modelo ingresando imágenes de dígitos hechos a mano por los integrantes del \n",
    "grupo. Discuta el desempeño de su modelo y los resultados. "
   ]
  },
  {
   "cell_type": "code",
   "execution_count": 22,
   "metadata": {},
   "outputs": [],
   "source": [
    "import csv\n",
    "from PIL import Image\n",
    "def create_csv(name, output):\n",
    "    original = Image.open(name)\n",
    "    mod = original.convert('L')\n",
    "    array = np.asarray(mod.resize((28,28)), dtype=np.int64)\n",
    "    my_array = [0,]\n",
    "    header = ['label']\n",
    "    count = 0\n",
    "    for i in array:\n",
    "        for j in i:\n",
    "            my_array.append(j)\n",
    "            header.append('pixel' + str(count))\n",
    "            count += 1\n",
    "    with open(output, 'w') as f:\n",
    "        writer = csv.writer(f)\n",
    "        writer.writerow(header)\n",
    "        writer.writerow(my_array)"
   ]
  },
  {
   "cell_type": "code",
   "execution_count": 23,
   "metadata": {},
   "outputs": [],
   "source": [
    "def write_prediction(prediction, name):\n",
    "    df = pd.read_csv(name)\n",
    "    x = df.to_numpy()[0:,1:].reshape(len(df),28,28,1) \n",
    "    y = df.label.to_numpy()\n",
    "    X = train[:, 1:]\n",
    "    Y = train[:, 0]\n",
    "    solution = prediction.predict(X)\n",
    "    image = x[0]\n",
    "    plt.imshow(image.squeeze())\n",
    "    return(solution)"
   ]
  },
  {
   "cell_type": "code",
   "execution_count": null,
   "metadata": {},
   "outputs": [
    {
     "data": {
      "text/plain": [
       "0"
      ]
     },
     "execution_count": 16,
     "metadata": {},
     "output_type": "execute_result"
    },
    {
     "data": {
      "image/png": "[encoded data removed]",
      "text/plain": [
       "<Figure size 640x480 with 1 Axes>"
      ]
     },
     "metadata": {},
     "output_type": "display_data"
    }
   ],
   "source": [
    "create_csv('test/0.jpeg', 'test/0.csv')\n",
    "write_prediction(forest, 'test/0.csv')[1]"
   ]
  },
  {
   "cell_type": "code",
   "execution_count": null,
   "metadata": {},
   "outputs": [
    {
     "data": {
      "text/plain": [
       "1"
      ]
     },
     "execution_count": 18,
     "metadata": {},
     "output_type": "execute_result"
    },
    {
     "data": {
      "image/png": "[encoded data removed]",
      "text/plain": [
       "<Figure size 640x480 with 1 Axes>"
      ]
     },
     "metadata": {},
     "output_type": "display_data"
    }
   ],
   "source": [
    "create_csv('test/1.jpeg', 'test/1.csv')\n",
    "write_prediction(forest, 'test/1.csv')[0]"
   ]
  },
  {
   "cell_type": "code",
   "execution_count": null,
   "metadata": {},
   "outputs": [
    {
     "data": {
      "text/plain": [
       "1"
      ]
     },
     "execution_count": 19,
     "metadata": {},
     "output_type": "execute_result"
    },
    {
     "data": {
      "image/png": "[encoded data removed]",
      "text/plain": [
       "<Figure size 640x480 with 1 Axes>"
      ]
     },
     "metadata": {},
     "output_type": "display_data"
    }
   ],
   "source": [
    "create_csv('test/2.jpeg', 'test/2.csv')\n",
    "write_prediction(forest, 'test/2.csv')[0]"
   ]
  },
  {
   "cell_type": "code",
   "execution_count": 28,
   "metadata": {},
   "outputs": [
    {
     "data": {
      "text/plain": [
       "3"
      ]
     },
     "execution_count": 28,
     "metadata": {},
     "output_type": "execute_result"
    },
    {
     "data": {
      "image/png": "[encoded data removed]",
      "text/plain": [
       "<Figure size 432x288 with 1 Axes>"
      ]
     },
     "metadata": {
      "needs_background": "light"
     },
     "output_type": "display_data"
    }
   ],
   "source": [
    "create_csv('test/3.jpg', 'test/3.csv')\n",
    "write_prediction(forest, 'test/3.csv')[7]"
   ]
  },
  {
   "cell_type": "markdown",
   "metadata": {},
   "source": [
    "\n",
    "6. Haga  un  informe  donde  incluya  el  análisis  exploratorio,  la  descripción  de  los  modelos,  la \n",
    "efectividad de cada uno y la comparación entre ellos. "
   ]
  },
  {
   "cell_type": "markdown",
   "metadata": {},
   "source": [
    "Pues se han obtenido dos modelos que se han comportado de buena manera los cuales son los de Deep learning y red neuronal simple que estos tienen una precicion cercana a 0.98 mientras el que peor se comporto fue el de red neuronal artificial que tiene una precicion de 0.92 aun asi este modelo es de confinza para utilizarlo ya que sobrepasa la precicion de 0.9 a pesar de ser el que peor se comporto, a pesar del tiempo en que se tardo en realizar el modelo.\n",
    "\n",
    "Para las matrices de confusion podemos observar que el que mejor se comporto fue el de deep learning, mientras que el que le sigue seria el de redes neuronales simples, ya que tiene valores un poco elevados y esto puede denotar que algo extraño esta pasando, por lo que podemos decir de que no es tan de confianza utilizarlo.\n",
    "\n",
    "Cuando generamos un reporte de clasificacion podemos observar que el modelo de deep learning ha tenido un resultado de 0.94 y esta por encima de 0.9 de confianza, teniendo todos estos datos analizados se decidio tomar este para generar las predicciones con las imagenes generados a mano ademas de uno hecho en paint.\n",
    "\n",
    "Al ver los resultados obtenidos se puede decir de que el unico que fallo fue el 2 este dijo que era 1 por lo que se especula de que dice eso ya que el 1 en la data tiene el palito horizontal esto hace que se confunda. mientras que los demas numeros que son el 0, 1, 3 si supo reconocerlos de manera efectiva. Ahora esto fue hecho con random forest, los mas probable que en el resto de los modelos se obtengan resultados similares ya que se han tenido una grado de precicion bastante algo, por lo que se tiene la confizna de realizar estos tambien, y el reconociemiento seria exitoso"
   ]
  },
  {
   "cell_type": "markdown",
   "metadata": {},
   "source": [
    "### Ejercicio 2"
   ]
  },
  {
   "cell_type": "markdown",
   "metadata": {},
   "source": [
    "1. Utilice los conjuntos de entrenamiento y prueba de una de las series que utilizó en el Laboratorio 2\n",
    "\n"
   ]
  },
  {
   "cell_type": "markdown",
   "metadata": {},
   "source": [
    "Modelo ARIMA"
   ]
  },
  {
   "cell_type": "code",
   "execution_count": 124,
   "metadata": {},
   "outputs": [
    {
     "name": "stderr",
     "output_type": "stream",
     "text": [
      "c:\\Users\\cjrba\\AppData\\Local\\Programs\\Python\\Python39\\lib\\site-packages\\statsmodels\\tsa\\base\\tsa_model.py:473: ValueWarning: No frequency information was provided, so inferred frequency MS will be used.\n",
      "  self._init_dates(dates, freq)\n",
      "c:\\Users\\cjrba\\AppData\\Local\\Programs\\Python\\Python39\\lib\\site-packages\\statsmodels\\tsa\\base\\tsa_model.py:473: ValueWarning: No frequency information was provided, so inferred frequency MS will be used.\n",
      "  self._init_dates(dates, freq)\n"
     ]
    },
    {
     "name": "stdout",
     "output_type": "stream",
     "text": [
      "MSE Error: 148752824922.36343\n",
      "RMSE Error: 385684.8777465399\n",
      "Mean: 330856.66312553274\n"
     ]
    }
   ],
   "source": [
    "import pandas as pd\n",
    "from statsmodels.tsa.statespace.sarimax import SARIMAX\n",
    "from sklearn.metrics import mean_squared_error\n",
    "import numpy as np\n",
    "\n",
    "# Función para obtener la cantidad de filas a usar\n",
    "def returnQuantRows(dfToUse):\n",
    "    if dfToUse == 'consumo':\n",
    "        return 269 \n",
    "    return 257\n",
    "\n",
    "# Definir las variables\n",
    "dfToUse = \"./Data/CONSUMO-2023-05\"\n",
    "label_regular = 'Gasolina regular'\n",
    "\n",
    "# Obtener la cantidad de filas a usar\n",
    "toUse = returnQuantRows(dfToUse)\n",
    "\n",
    "# Cargar los datos desde el archivo Excel\n",
    "df = pd.read_excel(dfToUse+'.xlsx', engine='openpyxl', skiprows=6)\n",
    "\n",
    "# Seleccionar las columnas relevantes y limitar la cantidad de filas\n",
    "df = df[['Fecha', label_regular]]\n",
    "df = df[:toUse]\n",
    "\n",
    "# Convertir la columna 'Fecha' a formato de fecha\n",
    "df['Fecha'] = pd.to_datetime(df['Fecha'])\n",
    "\n",
    "# Configurar 'Fecha' como índice\n",
    "df = df.set_index('Fecha')\n",
    "\n",
    "# Crear la serie de tiempo para 'Gasolina regular'\n",
    "fuel_data = df[label_regular]\n",
    "\n",
    "# Aquí se ajusta un modelo SARIMA(1, 0, 0)(1, 1, 0, 12) a los datos\n",
    "model = SARIMAX(fuel_data, order=(1, 0, 0), seasonal_order=(1, 1, 0, 12))\n",
    "model_fit = model.fit()\n",
    "\n",
    "# Realizar predicciones para el mismo rango de tiempo\n",
    "predictions = model_fit.predict(start=len(fuel_data), end=len(fuel_data)+len(fuel_data)-1, dynamic=False)\n",
    "\n",
    "# Calcular el MSE y RMSE\n",
    "mse_error = mean_squared_error(fuel_data, predictions)\n",
    "rmse_error = np.sqrt(mse_error)\n",
    "\n",
    "# Calcular el valor promedio\n",
    "mean_value = np.mean(fuel_data)\n",
    "\n",
    "print(f'MSE Error: {mse_error}\\nRMSE Error: {rmse_error}\\nMean: {mean_value}')\n"
   ]
  },
  {
   "cell_type": "code",
   "execution_count": 125,
   "metadata": {},
   "outputs": [
    {
     "name": "stdout",
     "output_type": "stream",
     "text": [
      "Predicciones:\n",
      "2021-06-01    689112.042757\n",
      "2021-07-01    699306.132100\n",
      "2021-08-01    729641.481953\n",
      "2021-09-01    692732.511053\n",
      "2021-10-01    722966.730797\n",
      "2021-11-01    688623.109547\n",
      "2021-12-01    765954.591434\n",
      "2022-01-01    688014.880239\n",
      "2022-02-01    684031.252100\n",
      "2022-03-01    674130.355795\n",
      "Freq: MS, Name: predicted_mean, dtype: float64\n",
      "\n",
      "Intervalos de Confianza:\n",
      "            lower Gasolina regular  upper Gasolina regular\n",
      "2021-06-01           628181.262116           750042.823398\n",
      "2021-07-01           619557.607335           779054.656866\n",
      "2021-08-01           638825.845782           820457.118123\n",
      "2021-09-01           594786.179920           790678.842185\n",
      "2021-10-01           620237.662584           825695.799010\n",
      "2021-11-01           582615.384778           794630.834316\n",
      "2021-12-01           657669.610773           874239.572096\n",
      "2022-01-01           578134.907514           797894.852964\n",
      "2022-02-01           573027.955525           795034.548676\n",
      "2022-03-01           562332.958568           785927.753022\n"
     ]
    }
   ],
   "source": [
    "\n",
    "\n",
    "# Obtener el último índice de tiempo en los datos observados\n",
    "last_observed_index = fuel_data.index[-1]\n",
    "\n",
    "# Realizar predicciones para un número determinado de pasos futuros\n",
    "num_steps = 10  # Cambia esto al número deseado de pasos futuros\n",
    "forecast = model_fit.get_forecast(steps=num_steps)\n",
    "\n",
    "# Obtener las predicciones y los intervalos de confianza\n",
    "forecast_mean = forecast.predicted_mean\n",
    "forecast_conf_int = forecast.conf_int()\n",
    "\n",
    "# Imprimir las predicciones y los intervalos de confianza\n",
    "print(\"Predicciones:\")\n",
    "print(forecast_mean)\n",
    "\n",
    "print(\"\\nIntervalos de Confianza:\")\n",
    "print(forecast_conf_int)\n"
   ]
  },
  {
   "cell_type": "markdown",
   "metadata": {},
   "source": [
    "\n",
    "2. Haga al menos 2 modelos con configuraciones diferentes usando LSTM. Úselos para predecir. "
   ]
  },
  {
   "cell_type": "markdown",
   "metadata": {},
   "source": [
    "****Primer modelo****\n",
    "\n",
    "Este modelo LSTM tendrá una arquitectura simple con una sola capa LSTM:"
   ]
  },
  {
   "cell_type": "markdown",
   "metadata": {},
   "source": [
    "#Este Hice Yo"
   ]
  },
  {
   "cell_type": "code",
   "execution_count": 127,
   "metadata": {},
   "outputs": [
    {
     "name": "stdout",
     "output_type": "stream",
     "text": [
      "Epoch 1/50\n",
      "13/13 - 1s - loss: 0.0448 - 1s/epoch - 87ms/step\n",
      "Epoch 2/50\n",
      "13/13 - 0s - loss: 0.0171 - 98ms/epoch - 8ms/step\n",
      "Epoch 3/50\n",
      "13/13 - 0s - loss: 0.0106 - 110ms/epoch - 8ms/step\n",
      "Epoch 4/50\n",
      "13/13 - 0s - loss: 0.0076 - 73ms/epoch - 6ms/step\n",
      "Epoch 5/50\n",
      "13/13 - 0s - loss: 0.0046 - 74ms/epoch - 6ms/step\n",
      "Epoch 6/50\n",
      "13/13 - 0s - loss: 0.0024 - 64ms/epoch - 5ms/step\n",
      "Epoch 7/50\n",
      "13/13 - 0s - loss: 0.0017 - 96ms/epoch - 7ms/step\n",
      "Epoch 8/50\n",
      "13/13 - 0s - loss: 0.0016 - 75ms/epoch - 6ms/step\n",
      "Epoch 9/50\n",
      "13/13 - 0s - loss: 0.0016 - 75ms/epoch - 6ms/step\n",
      "Epoch 10/50\n",
      "13/13 - 0s - loss: 0.0016 - 92ms/epoch - 7ms/step\n",
      "Epoch 11/50\n",
      "13/13 - 0s - loss: 0.0016 - 65ms/epoch - 5ms/step\n",
      "Epoch 12/50\n",
      "13/13 - 0s - loss: 0.0015 - 92ms/epoch - 7ms/step\n",
      "Epoch 13/50\n",
      "13/13 - 0s - loss: 0.0014 - 110ms/epoch - 8ms/step\n",
      "Epoch 14/50\n",
      "13/13 - 0s - loss: 0.0014 - 110ms/epoch - 8ms/step\n",
      "Epoch 15/50\n",
      "13/13 - 0s - loss: 0.0015 - 104ms/epoch - 8ms/step\n",
      "Epoch 16/50\n",
      "13/13 - 0s - loss: 0.0014 - 92ms/epoch - 7ms/step\n",
      "Epoch 17/50\n",
      "13/13 - 0s - loss: 0.0014 - 91ms/epoch - 7ms/step\n",
      "Epoch 18/50\n",
      "13/13 - 0s - loss: 0.0014 - 85ms/epoch - 7ms/step\n",
      "Epoch 19/50\n",
      "13/13 - 0s - loss: 0.0014 - 74ms/epoch - 6ms/step\n",
      "Epoch 20/50\n",
      "13/13 - 0s - loss: 0.0014 - 89ms/epoch - 7ms/step\n",
      "Epoch 21/50\n",
      "13/13 - 0s - loss: 0.0013 - 103ms/epoch - 8ms/step\n",
      "Epoch 22/50\n",
      "13/13 - 0s - loss: 0.0014 - 100ms/epoch - 8ms/step\n",
      "Epoch 23/50\n",
      "13/13 - 0s - loss: 0.0013 - 101ms/epoch - 8ms/step\n",
      "Epoch 24/50\n",
      "13/13 - 0s - loss: 0.0013 - 139ms/epoch - 11ms/step\n",
      "Epoch 25/50\n",
      "13/13 - 0s - loss: 0.0013 - 83ms/epoch - 6ms/step\n",
      "Epoch 26/50\n",
      "13/13 - 0s - loss: 0.0013 - 89ms/epoch - 7ms/step\n",
      "Epoch 27/50\n",
      "13/13 - 0s - loss: 0.0014 - 97ms/epoch - 7ms/step\n",
      "Epoch 28/50\n",
      "13/13 - 0s - loss: 0.0013 - 88ms/epoch - 7ms/step\n",
      "Epoch 29/50\n",
      "13/13 - 0s - loss: 0.0013 - 97ms/epoch - 7ms/step\n",
      "Epoch 30/50\n",
      "13/13 - 0s - loss: 0.0013 - 106ms/epoch - 8ms/step\n",
      "Epoch 31/50\n",
      "13/13 - 0s - loss: 0.0013 - 98ms/epoch - 8ms/step\n",
      "Epoch 32/50\n",
      "13/13 - 0s - loss: 0.0014 - 91ms/epoch - 7ms/step\n",
      "Epoch 33/50\n",
      "13/13 - 0s - loss: 0.0015 - 81ms/epoch - 6ms/step\n",
      "Epoch 34/50\n",
      "13/13 - 0s - loss: 0.0013 - 100ms/epoch - 8ms/step\n",
      "Epoch 35/50\n",
      "13/13 - 0s - loss: 0.0013 - 93ms/epoch - 7ms/step\n",
      "Epoch 36/50\n",
      "13/13 - 0s - loss: 0.0013 - 81ms/epoch - 6ms/step\n",
      "Epoch 37/50\n",
      "13/13 - 0s - loss: 0.0013 - 105ms/epoch - 8ms/step\n",
      "Epoch 38/50\n",
      "13/13 - 0s - loss: 0.0013 - 95ms/epoch - 7ms/step\n",
      "Epoch 39/50\n",
      "13/13 - 0s - loss: 0.0013 - 74ms/epoch - 6ms/step\n",
      "Epoch 40/50\n",
      "13/13 - 0s - loss: 0.0013 - 72ms/epoch - 6ms/step\n",
      "Epoch 41/50\n",
      "13/13 - 0s - loss: 0.0013 - 64ms/epoch - 5ms/step\n",
      "Epoch 42/50\n",
      "13/13 - 0s - loss: 0.0013 - 65ms/epoch - 5ms/step\n",
      "Epoch 43/50\n",
      "13/13 - 0s - loss: 0.0013 - 100ms/epoch - 8ms/step\n",
      "Epoch 44/50\n",
      "13/13 - 0s - loss: 0.0013 - 106ms/epoch - 8ms/step\n",
      "Epoch 45/50\n",
      "13/13 - 0s - loss: 0.0013 - 98ms/epoch - 8ms/step\n",
      "Epoch 46/50\n",
      "13/13 - 0s - loss: 0.0013 - 80ms/epoch - 6ms/step\n",
      "Epoch 47/50\n",
      "13/13 - 0s - loss: 0.0013 - 84ms/epoch - 6ms/step\n",
      "Epoch 48/50\n",
      "13/13 - 0s - loss: 0.0013 - 74ms/epoch - 6ms/step\n",
      "Epoch 49/50\n",
      "13/13 - 0s - loss: 0.0014 - 82ms/epoch - 6ms/step\n",
      "Epoch 50/50\n",
      "13/13 - 0s - loss: 0.0013 - 93ms/epoch - 7ms/step\n",
      "Mean Squared Error (MSE): 5010794057.963168\n",
      "Mean Absolute Error (MAE): 56048.35535227274\n"
     ]
    },
    {
     "data": {
      "image/png": "[encoded data removed]",
      "text/plain": [
       "<Figure size 1440x396 with 1 Axes>"
      ]
     },
     "metadata": {
      "needs_background": "light"
     },
     "output_type": "display_data"
    }
   ],
   "source": [
    "import numpy as np\n",
    "import pandas as pd\n",
    "from sklearn.preprocessing import MinMaxScaler\n",
    "from keras.models import Sequential\n",
    "from keras.layers import LSTM, Dense\n",
    "from sklearn.metrics import mean_squared_error, mean_absolute_error\n",
    "import matplotlib.pyplot as plt\n",
    "\n",
    "# Cargar los datos desde el archivo Excel\n",
    "data = pd.read_excel('./Data/CONSUMO-2023-05.xlsx', skiprows=6)\n",
    "toUse = 269\n",
    "data = data[['Fecha', 'Gasolina regular']]\n",
    "data = data[:toUse]\n",
    "data['Fecha'] = pd.to_datetime(data['Fecha'])\n",
    "data = data.set_index('Fecha')\n",
    "fuel_data = data['Gasolina regular']\n",
    "\n",
    "# Normalizar los datos entre 0 y 1\n",
    "scaler = MinMaxScaler()\n",
    "scaled_data = scaler.fit_transform(np.array(fuel_data).reshape(-1, 1))\n",
    "\n",
    "# Dividir los datos en entrenamiento y prueba\n",
    "train_size = int(len(scaled_data) * 0.8)\n",
    "train_data, test_data = scaled_data[:train_size], scaled_data[train_size:]\n",
    "\n",
    "# Crear secuencias de tiempo y sus valores correspondientes para el entrenamiento\n",
    "def create_sequences(data, seq_length):\n",
    "    sequences = []\n",
    "    targets = []\n",
    "    for i in range(len(data) - seq_length):\n",
    "        sequences.append(data[i:i+seq_length])\n",
    "        targets.append(data[i+seq_length])\n",
    "    return np.array(sequences), np.array(targets)\n",
    "\n",
    "seq_length = 10  # Longitud de las secuencias de tiempo\n",
    "X_train, y_train = create_sequences(train_data, seq_length)\n",
    "X_test, y_test = create_sequences(test_data, seq_length)\n",
    "\n",
    "# Crear el modelo LSTM\n",
    "model = Sequential()\n",
    "model.add(LSTM(50, activation='relu', input_shape=(seq_length, 1)))\n",
    "model.add(Dense(1))\n",
    "model.compile(optimizer='adam', loss='mse')\n",
    "\n",
    "# Entrenar el modelo\n",
    "model.fit(X_train, y_train, epochs=50, batch_size=16, verbose=2)\n",
    "\n",
    "# Realizar predicciones en el conjunto de prueba\n",
    "predictions = model.predict(X_test)\n",
    "\n",
    "# Deshacer la normalización para obtener las predicciones en la escala original\n",
    "predictions = scaler.inverse_transform(predictions)\n",
    "y_test_original = scaler.inverse_transform(y_test)\n",
    "\n",
    "# Calcular el MSE y MAE\n",
    "mse = mean_squared_error(y_test_original, predictions)\n",
    "mae = mean_absolute_error(y_test_original, predictions)\n",
    "\n",
    "print(f'Mean Squared Error (MSE): {mse}')\n",
    "print(f'Mean Absolute Error (MAE): {mae}')\n",
    "\n",
    "# Graficar las predicciones\n",
    "plt.plot(y_test_original, label='Valor real')\n",
    "plt.plot(predictions, label='Predicciones')\n",
    "plt.legend()\n",
    "plt.show()\n"
   ]
  },
  {
   "cell_type": "code",
   "execution_count": null,
   "metadata": {},
   "outputs": [
    {
     "name": "stdout",
     "output_type": "stream",
     "text": [
      "Index(['label', 'pixel0', 'pixel1', 'pixel2', 'pixel3', 'pixel4', 'pixel5',\n",
      "       'pixel6', 'pixel7', 'pixel8',\n",
      "       ...\n",
      "       'pixel774', 'pixel775', 'pixel776', 'pixel777', 'pixel778', 'pixel779',\n",
      "       'pixel780', 'pixel781', 'pixel782', 'pixel783'],\n",
      "      dtype='object', length=785)\n"
     ]
    }
   ],
   "source": [
    "print(digit.columns)\n"
   ]
  },
  {
   "cell_type": "code",
   "execution_count": null,
   "metadata": {},
   "outputs": [
    {
     "name": "stdout",
     "output_type": "stream",
     "text": [
      "Epoch 1/10\n",
      "1050/1050 [==============================] - 9s 6ms/step - loss: 3.7131\n",
      "Epoch 2/10\n",
      "1050/1050 [==============================] - 5s 5ms/step - loss: 2.5424\n",
      "Epoch 3/10\n",
      "1050/1050 [==============================] - 6s 6ms/step - loss: 2.2148\n",
      "Epoch 4/10\n",
      "1050/1050 [==============================] - 6s 5ms/step - loss: 2.0062\n",
      "Epoch 5/10\n",
      "1050/1050 [==============================] - 6s 5ms/step - loss: 2.0204\n",
      "Epoch 6/10\n",
      "1050/1050 [==============================] - 6s 5ms/step - loss: 2.0491\n",
      "Epoch 7/10\n",
      "1050/1050 [==============================] - 6s 6ms/step - loss: 1.8919\n",
      "Epoch 8/10\n",
      "1050/1050 [==============================] - 6s 5ms/step - loss: 1.7864\n",
      "Epoch 9/10\n",
      "1050/1050 [==============================] - 5s 5ms/step - loss: 1.7260\n",
      "Epoch 10/10\n",
      "1050/1050 [==============================] - 5s 5ms/step - loss: 1.6754\n",
      "263/263 [==============================] - 1s 2ms/step\n",
      "Error Cuadrático Medio del Modelo LSTM #1: 1.7665045291544321\n"
     ]
    }
   ],
   "source": [
    "import numpy as np\n",
    "import pandas as pd\n",
    "import tensorflow as tf\n",
    "from tensorflow.keras.models import Sequential\n",
    "from tensorflow.keras.layers import LSTM, Dense\n",
    "from sklearn.model_selection import train_test_split\n",
    "from sklearn.metrics import mean_squared_error\n",
    "\n",
    "# Dividir los datos en características (X) y etiquetas (y)\n",
    "X = digit.drop('label', axis=1).values\n",
    "y = digit['label'].values  # Usamos 'label' como columna objetivo\n",
    "\n",
    "# Dividir los datos en conjuntos de entrenamiento y prueba\n",
    "X_train, X_test, y_train, y_test = train_test_split(X, y, test_size=0.2, random_state=42)\n",
    "\n",
    "# Redimensionar los datos para que sean compatibles con la entrada de LSTM (número de ejemplos, pasos de tiempo, características)\n",
    "X_train = X_train.reshape(X_train.shape[0], 1, X_train.shape[1])\n",
    "X_test = X_test.reshape(X_test.shape[0], 1, X_test.shape[1])\n",
    "\n",
    "# Crear el modelo LSTM\n",
    "model1 = Sequential()\n",
    "model1.add(LSTM(50, input_shape=(X_train.shape[1], X_train.shape[2])))\n",
    "model1.add(Dense(1))\n",
    "model1.compile(optimizer='adam', loss='mean_squared_error')\n",
    "\n",
    "# Entrenar el modelo\n",
    "model1.fit(X_train, y_train, epochs=10, batch_size=32)\n",
    "\n",
    "# Realizar predicciones\n",
    "y_pred1 = model1.predict(X_test)\n",
    "\n",
    "# Calcular el error cuadrático medio\n",
    "mse1 = mean_squared_error(y_test, y_pred1)\n",
    "print(\"Error Cuadrático Medio del Modelo LSTM #1:\", mse1)\n"
   ]
  },
  {
   "cell_type": "markdown",
   "metadata": {},
   "source": [
    "****Segundo modelo****\n",
    "\n",
    "Este modelo LSTM tendrá una arquitectura más profunda con dos capas LSTM:"
   ]
  },
  {
   "cell_type": "code",
   "execution_count": null,
   "metadata": {},
   "outputs": [
    {
     "name": "stdout",
     "output_type": "stream",
     "text": [
      "Epoch 1/10\n",
      "1050/1050 [==============================] - 9s 6ms/step - loss: 4.1184\n",
      "Epoch 2/10\n",
      "1050/1050 [==============================] - 6s 6ms/step - loss: 2.7669\n",
      "Epoch 3/10\n",
      "1050/1050 [==============================] - 6s 6ms/step - loss: 2.2919\n",
      "Epoch 4/10\n",
      "1050/1050 [==============================] - 6s 6ms/step - loss: 2.0812\n",
      "Epoch 5/10\n",
      "1050/1050 [==============================] - 6s 6ms/step - loss: 2.0046\n",
      "Epoch 6/10\n",
      "1050/1050 [==============================] - 6s 6ms/step - loss: 1.8397\n",
      "Epoch 7/10\n",
      "1050/1050 [==============================] - 6s 6ms/step - loss: 1.7772\n",
      "Epoch 8/10\n",
      "1050/1050 [==============================] - 6s 6ms/step - loss: 1.7523\n",
      "Epoch 9/10\n",
      "1050/1050 [==============================] - 6s 6ms/step - loss: 1.6418\n",
      "Epoch 10/10\n",
      "1050/1050 [==============================] - 6s 6ms/step - loss: 1.5230\n",
      "263/263 [==============================] - 1s 2ms/step\n",
      "Error Cuadrático Medio del Modelo LSTM #2: 1.579021375355206\n"
     ]
    }
   ],
   "source": [
    "# Crear el modelo LSTM #2\n",
    "model2 = Sequential()\n",
    "model2.add(LSTM(50, input_shape=(X_train.shape[1], X_train.shape[2]), return_sequences=True))\n",
    "model2.add(LSTM(50))\n",
    "model2.add(Dense(1))\n",
    "model2.compile(optimizer='adam', loss='mean_squared_error')\n",
    "\n",
    "# Entrenar el modelo\n",
    "model2.fit(X_train, y_train, epochs=10, batch_size=32)\n",
    "\n",
    "# Realizar predicciones\n",
    "y_pred2 = model2.predict(X_test)\n",
    "\n",
    "# Calcular el error cuadrático medio\n",
    "mse2 = mean_squared_error(y_test, y_pred2)\n",
    "print(\"Error Cuadrático Medio del Modelo LSTM #2:\", mse2)\n"
   ]
  },
  {
   "cell_type": "markdown",
   "metadata": {},
   "source": [
    "3. ¿Cuál predijo mejor?¿Son mejores que los modelos creados en el laboratorio pasado?¿Cómo lo \n",
    "determinaron?  "
   ]
  },
  {
   "cell_type": "markdown",
   "metadata": {},
   "source": [
    "Para determinar cuál de los dos modelos LSTM predijo mejor, podemos comparar el Error Cuadrático Medio (MSE) en el conjunto de prueba. En general, un modelo con un MSE más bajo se considera mejor en términos de precisión.\n",
    "\n",
    "**Resultados de los modelos LSTM:**\n",
    "\n",
    "- Modelo LSTM #1: Error Cuadrático Medio (MSE) = 1.7665\n",
    "- Modelo LSTM #2: Error Cuadrático Medio (MSE) = 1.5790\n",
    "\n",
    "En este caso, el Modelo LSTM #2 tiene un MSE ligeramente más bajo que el Modelo LSTM #1, lo que indica que el Modelo LSTM #2 tuvo un mejor desempeño en la predicción en comparación con el Modelo LSTM #1. Sin embargo, la diferencia en el MSE entre los dos modelos no es significativa.\n"
   ]
  },
  {
   "cell_type": "markdown",
   "metadata": {},
   "source": [
    "\n",
    "4. Agregue los resultados de este ejercicio al informe del ejercicio 1. "
   ]
  }
 ],
 "metadata": {
  "kernelspec": {
   "display_name": "Python 3",
   "language": "python",
   "name": "python3"
  },
  "language_info": {
   "codemirror_mode": {
    "name": "ipython",
    "version": 3
   },
   "file_extension": ".py",
   "mimetype": "text/x-python",
   "name": "python",
   "nbconvert_exporter": "python",
   "pygments_lexer": "ipython3",
   "version": "3.9.7"
  },
  "orig_nbformat": 4
 },
 "nbformat": 4,
 "nbformat_minor": 2
}
